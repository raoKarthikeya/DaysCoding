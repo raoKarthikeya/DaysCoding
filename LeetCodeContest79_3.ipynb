{
 "cells": [
  {
   "cell_type": "code",
   "execution_count": 2,
   "metadata": {
    "collapsed": true
   },
   "outputs": [],
   "source": [
    "A = [9,1,2,3,9]\n",
    "K = 3"
   ]
  },
  {
   "cell_type": "code",
   "execution_count": 38,
   "metadata": {},
   "outputs": [],
   "source": [
    "class Solution:\n",
    "    def largestSumOfAverages(self, A, K):\n",
    "        \"\"\"\n",
    "        :type A: List[int]\n",
    "        :type K: int\n",
    "        :rtype: float\n",
    "        \"\"\"\n",
    "        S=A\n",
    "        diff=[0]\n",
    "        S.sort()\n",
    "        print(S)\n",
    "        for i in range(1,len(A)):\n",
    "            diff.append(S[i]-S[i-1])\n",
    "        '''\n",
    "        print(diff)\n",
    "        print(max(diff))\n",
    "        print(diff.index(max(diff)))\n",
    "        '''\n",
    "        \n",
    "        ind=diff.index(max(diff))\n",
    "        print(ind)\n",
    "        if (ind<=K) and (ind!=0):\n",
    "            div=ind\n",
    "        elif ind==0: \n",
    "            div=1\n",
    "        else:\n",
    "            ind=len(A)-K\n",
    "            div=ind\n",
    "        \n",
    "        '''\n",
    "        print(sum(S[ind:]))\n",
    "        print(sum(S[:ind]))\n",
    "        '''\n",
    "        tot=sum(S[ind:])+(sum(S[:ind])/div)\n",
    "        print(tot)\n",
    "        return tot"
   ]
  },
  {
   "cell_type": "code",
   "execution_count": 39,
   "metadata": {},
   "outputs": [
    {
     "name": "stdout",
     "output_type": "stream",
     "text": [
      "[1, 2, 3, 9, 9]\n",
      "3\n",
      "20.0\n"
     ]
    },
    {
     "data": {
      "text/plain": [
       "20.0"
      ]
     },
     "execution_count": 39,
     "metadata": {},
     "output_type": "execute_result"
    }
   ],
   "source": [
    "Solution.largestSumOfAverages(0,A,K)"
   ]
  },
  {
   "cell_type": "code",
   "execution_count": null,
   "metadata": {
    "collapsed": true
   },
   "outputs": [],
   "source": []
  },
  {
   "cell_type": "code",
   "execution_count": null,
   "metadata": {
    "collapsed": true
   },
   "outputs": [],
   "source": []
  }
 ],
 "metadata": {
  "kernelspec": {
   "display_name": "Python 3",
   "language": "python",
   "name": "python3"
  },
  "language_info": {
   "codemirror_mode": {
    "name": "ipython",
    "version": 3
   },
   "file_extension": ".py",
   "mimetype": "text/x-python",
   "name": "python",
   "nbconvert_exporter": "python",
   "pygments_lexer": "ipython3",
   "version": "3.6.3"
  }
 },
 "nbformat": 4,
 "nbformat_minor": 2
}
