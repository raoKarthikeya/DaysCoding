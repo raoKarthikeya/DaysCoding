{
 "cells": [
  {
   "cell_type": "code",
   "execution_count": 171,
   "metadata": {
    "collapsed": true
   },
   "outputs": [],
   "source": [
    "'''\n",
    "Some people will make friend requests. The list of their ages is given and ages[i] is the age of the ith person. \n",
    "\n",
    "Person A will NOT friend request person B (B != A) if any of the following conditions are true:\n",
    "\n",
    "age[B] <= 0.5 * age[A] + 7\n",
    "age[B] > age[A]\n",
    "age[B] > 100 && age[A] < 100\n",
    "Otherwise, A will friend request B.\n",
    "\n",
    "Note that if A requests B, B does not necessarily request A.  Also, people will not friend request themselves.\n",
    "\n",
    "How many total friend requests are made?\n",
    "\n",
    "Example 1:\n",
    "\n",
    "Input: [16,16]\n",
    "Output: 2\n",
    "Explanation: 2 people friend request each other.\n",
    "Example 2:\n",
    "\n",
    "Input: [16,17,18]\n",
    "Output: 2\n",
    "Explanation: Friend requests are made 17 -> 16, 18 -> 17.\n",
    "Example 3:\n",
    "\n",
    "Input: [20,30,100,110,120]\n",
    "Output: \n",
    "Explanation: Friend requests are made 110 -> 100, 120 -> 110, 120 -> 100.\n",
    " \n",
    "\n",
    "Notes:\n",
    "\n",
    "1 <= ages.length <= 20000.\n",
    "1 <= ages[i] <= 120.\n",
    "'''\n",
    "\n",
    "\n",
    "ages=[16,16]#[108,115,5,24,82]"
   ]
  },
  {
   "cell_type": "code",
   "execution_count": 172,
   "metadata": {},
   "outputs": [],
   "source": [
    "class Solution:\n",
    "    def numFriendRequests(self, ages):\n",
    "        \"\"\"\n",
    "        :type ages: List[int]\n",
    "        :rtype: int\n",
    "        \"\"\"\n",
    "        ages.sort()\n",
    "        count=0\n",
    "        ci=0\n",
    "        cj=0\n",
    "        for i in ages:\n",
    "            ci+=1\n",
    "            cj=0\n",
    "\n",
    "            for j in ages:\n",
    "                cj+=1\n",
    "                if j>i:\n",
    "                    #print(i,j,\"cond1\")\n",
    "                    continue\n",
    "                elif j>100 and i<100:\n",
    "                    #print(i,j,\"cond2\")\n",
    "                    continue\n",
    "                elif j<=(0.5*i)+7:\n",
    "                    #print(i,j,\"cond3\")\n",
    "                    continue\n",
    "                else:\n",
    "                    if(ci!=cj):\n",
    "                        count+=1\n",
    "                        #print(i,j)\n",
    "                    #print(ci,cj)\n",
    "        return count     "
   ]
  },
  {
   "cell_type": "code",
   "execution_count": 173,
   "metadata": {},
   "outputs": [
    {
     "data": {
      "text/plain": [
       "2"
      ]
     },
     "execution_count": 173,
     "metadata": {},
     "output_type": "execute_result"
    }
   ],
   "source": [
    "Solution.numFriendRequests(self=0, ages=ages)"
   ]
  },
  {
   "cell_type": "code",
   "execution_count": null,
   "metadata": {
    "collapsed": true
   },
   "outputs": [],
   "source": []
  },
  {
   "cell_type": "code",
   "execution_count": null,
   "metadata": {
    "collapsed": true
   },
   "outputs": [],
   "source": []
  }
 ],
 "metadata": {
  "kernelspec": {
   "display_name": "Python 3",
   "language": "python",
   "name": "python3"
  },
  "language_info": {
   "codemirror_mode": {
    "name": "ipython",
    "version": 3
   },
   "file_extension": ".py",
   "mimetype": "text/x-python",
   "name": "python",
   "nbconvert_exporter": "python",
   "pygments_lexer": "ipython3",
   "version": "3.6.3"
  }
 },
 "nbformat": 4,
 "nbformat_minor": 2
}
