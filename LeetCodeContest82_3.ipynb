{
 "cells": [
  {
   "cell_type": "code",
   "execution_count": 2,
   "metadata": {},
   "outputs": [],
   "source": [
    "'''\n",
    "826. Most Profit Assigning Work\n",
    "User Accepted: 565\n",
    "User Tried: 891\n",
    "Total Accepted: 577\n",
    "Total Submissions: 2299\n",
    "Difficulty: Medium\n",
    "We have jobs: difficulty[i] is the difficulty of the ith job, and profit[i] is the profit of the ith job. \n",
    "\n",
    "Now we have some workers. worker[i] is the ability of the ith worker, which means that this worker can only complete a job with difficulty at most worker[i]. \n",
    "\n",
    "Every worker can be assigned at most one job, but one job can be completed multiple times.\n",
    "\n",
    "For example, if 3 people attempt the same job that pays $1, then the total profit will be $3.  If a worker cannot complete any job, his profit is $0.\n",
    "\n",
    "What is the most profit we can make?\n",
    "\n",
    "Example 1:\n",
    "\n",
    "Input: difficulty = [2,4,6,8,10], profit = [10,20,30,40,50], worker = [4,5,6,7]\n",
    "Output: 100 \n",
    "Explanation: Workers are assigned jobs of difficulty [4,4,6,6] and they get profit of [20,20,30,30] seperately.\n",
    "Notes:\n",
    "\n",
    "1 <= difficulty.length = profit.length <= 10000\n",
    "1 <= worker.length <= 10000\n",
    "difficulty[i], profit[i], worker[i]  are in range [1, 10^5]\n",
    "'''\n",
    "difficulty = [2,4,6,8,10]\n",
    "profit = [10,20,30,40,50]\n",
    "worker = [4,5,6,7]"
   ]
  },
  {
   "cell_type": "code",
   "execution_count": 3,
   "metadata": {
    "collapsed": true
   },
   "outputs": [],
   "source": [
    "class Solution:\n",
    "    def maxProfitAssignment(self, difficulty, profit, worker):\n",
    "        \"\"\"\n",
    "        :type difficulty: List[int]\n",
    "        :type profit: List[int]\n",
    "        :type worker: List[int]\n",
    "        :rtype: int\n",
    "        \"\"\"\n",
    "        \n",
    "        "
   ]
  },
  {
   "cell_type": "code",
   "execution_count": null,
   "metadata": {
    "collapsed": true
   },
   "outputs": [],
   "source": []
  }
 ],
 "metadata": {
  "kernelspec": {
   "display_name": "Python 3",
   "language": "python",
   "name": "python3"
  },
  "language_info": {
   "codemirror_mode": {
    "name": "ipython",
    "version": 3
   },
   "file_extension": ".py",
   "mimetype": "text/x-python",
   "name": "python",
   "nbconvert_exporter": "python",
   "pygments_lexer": "ipython3",
   "version": "3.6.3"
  }
 },
 "nbformat": 4,
 "nbformat_minor": 2
}
