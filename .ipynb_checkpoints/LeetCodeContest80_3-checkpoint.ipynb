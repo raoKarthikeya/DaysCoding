{
 "cells": [
  {
   "cell_type": "code",
   "execution_count": 120,
   "metadata": {
    "collapsed": true
   },
   "outputs": [],
   "source": [
    "S=\"0123\""
   ]
  },
  {
   "cell_type": "code",
   "execution_count": 125,
   "metadata": {},
   "outputs": [],
   "source": [
    "class Solution:\n",
    "    def ambiguousCoordinates(self, S):\n",
    "        \"\"\"\n",
    "        :type S: str\n",
    "        :rtype: List[str]\n",
    "        \"\"\"\n",
    "        mainList=[]\n",
    "        print(len(S))\n",
    "        div=int('1'+str('0'*len(S)))\n",
    "        print(div)\n",
    "        if len(S)<=2:\n",
    "            return None\n",
    "        else:\n",
    "            tmpS = int(S)\n",
    "            #mainList.append(tmp)\n",
    "\n",
    "            for i in range (1,int(len(S)/2)):\n",
    "                \n",
    "                div = div//10\n",
    "                tmpQ = tmpS/div\n",
    "                tmpR = tmpS%div\n",
    "                tmp=\"(\"+str(int(tmpQ))+\", \"+str(tmpR)+\")\"\n",
    "                mainList.append(tmp)\n",
    "                print(tmp)\n",
    "                \n",
    "                q=str(tmpQ)\n",
    "                r=str(tmpR)\n",
    "                \n",
    "                #r=r[1:]\n",
    "                rDiv= int('1'+str('0'*(len(r)-1)))\n",
    "                for j in range (1,len(r)):\n",
    "                    rr = int(r)/rDiv\n",
    "                    tmp=\"(\"+str(int(tmpQ))+\", \"+str(rr)+\")\"\n",
    "                    mainList.append(tmp)\n",
    "                    print(tmp)\n",
    "                    rDiv = rDiv//10\n",
    "                if q[-2]!='.':\n",
    "                    tmp=\"(\"+q[:-1]+\", \"+r[1:]+\")\"\n",
    "                    mainList.append(tmp)\n",
    "                    print(tmp)\n",
    "        print(mainList)\n",
    "            "
   ]
  },
  {
   "cell_type": "code",
   "execution_count": 126,
   "metadata": {},
   "outputs": [
    {
     "name": "stdout",
     "output_type": "stream",
     "text": [
      "4\n",
      "10000\n",
      "(0, 123)\n",
      "(0, 1.23)\n",
      "(0, 12.3)\n",
      "(0.12, 23)\n",
      "['(0, 123)', '(0, 1.23)', '(0, 12.3)', '(0.12, 23)']\n"
     ]
    }
   ],
   "source": [
    "Solution.ambiguousCoordinates(0,S)"
   ]
  },
  {
   "cell_type": "code",
   "execution_count": null,
   "metadata": {
    "collapsed": true
   },
   "outputs": [],
   "source": []
  },
  {
   "cell_type": "code",
   "execution_count": null,
   "metadata": {
    "collapsed": true
   },
   "outputs": [],
   "source": []
  }
 ],
 "metadata": {
  "kernelspec": {
   "display_name": "Python 3",
   "language": "python",
   "name": "python3"
  },
  "language_info": {
   "codemirror_mode": {
    "name": "ipython",
    "version": 3
   },
   "file_extension": ".py",
   "mimetype": "text/x-python",
   "name": "python",
   "nbconvert_exporter": "python",
   "pygments_lexer": "ipython3",
   "version": "3.6.3"
  }
 },
 "nbformat": 4,
 "nbformat_minor": 2
}
