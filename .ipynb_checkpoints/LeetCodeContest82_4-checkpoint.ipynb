{
 "cells": [
  {
   "cell_type": "code",
   "execution_count": 1,
   "metadata": {},
   "outputs": [
    {
     "data": {
      "text/plain": [
       "\"\\n827. Making A Large Island\\nUser Accepted: 284\\nUser Tried: 372\\nTotal Accepted: 293\\nTotal Submissions: 714\\nDifficulty: Hard\\nIn a 2D grid of 0s and 1s, we change at most one 0 to a 1.\\n\\nAfter, what is the size of the largest island? (An island is a 4-directionally connected group of 1s).\\n\\nExample 1:\\n\\nInput: [[1, 0], [0, 1]]\\nOutput: 3\\nExplanation: Change one 0 to 1 and connect two 1s, then we get an island with area = 3.\\nExample 2:\\n\\nInput: [[1, 1], [1, 0]]\\nOutput: 4\\nExplanation: Change the 0 to 1 and make the island bigger, only one island with area = 1.\\nExample 3:\\n\\nInput: [[1, 1], [1, 1]]\\nOutput: 4\\nExplanation: Can't change any 0 to 1, only one island with area = 1.\\n \\n\\nNotes:\\n\\n1 <= grid.length = grid[0].length <= 50.\\n0 <= grid[i][j] <= 1.\\n \\n\""
      ]
     },
     "execution_count": 1,
     "metadata": {},
     "output_type": "execute_result"
    }
   ],
   "source": [
    "'''\n",
    "827. Making A Large Island\n",
    "User Accepted: 284\n",
    "User Tried: 372\n",
    "Total Accepted: 293\n",
    "Total Submissions: 714\n",
    "Difficulty: Hard\n",
    "In a 2D grid of 0s and 1s, we change at most one 0 to a 1.\n",
    "\n",
    "After, what is the size of the largest island? (An island is a 4-directionally connected group of 1s).\n",
    "\n",
    "Example 1:\n",
    "\n",
    "Input: [[1, 0], [0, 1]]\n",
    "Output: 3\n",
    "Explanation: Change one 0 to 1 and connect two 1s, then we get an island with area = 3.\n",
    "Example 2:\n",
    "\n",
    "Input: [[1, 1], [1, 0]]\n",
    "Output: 4\n",
    "Explanation: Change the 0 to 1 and make the island bigger, only one island with area = 1.\n",
    "Example 3:\n",
    "\n",
    "Input: [[1, 1], [1, 1]]\n",
    "Output: 4\n",
    "Explanation: Can't change any 0 to 1, only one island with area = 1.\n",
    " \n",
    "\n",
    "Notes:\n",
    "\n",
    "1 <= grid.length = grid[0].length <= 50.\n",
    "0 <= grid[i][j] <= 1.\n",
    " \n",
    "'''"
   ]
  },
  {
   "cell_type": "code",
   "execution_count": 2,
   "metadata": {
    "collapsed": true
   },
   "outputs": [],
   "source": [
    "class Solution:\n",
    "    def largestIsland(self, grid):\n",
    "        \"\"\"\n",
    "        :type grid: List[List[int]]\n",
    "        :rtype: int\n",
    "        \"\"\"\n",
    "        "
   ]
  },
  {
   "cell_type": "code",
   "execution_count": null,
   "metadata": {
    "collapsed": true
   },
   "outputs": [],
   "source": []
  }
 ],
 "metadata": {
  "kernelspec": {
   "display_name": "Python 3",
   "language": "python",
   "name": "python3"
  },
  "language_info": {
   "codemirror_mode": {
    "name": "ipython",
    "version": 3
   },
   "file_extension": ".py",
   "mimetype": "text/x-python",
   "name": "python",
   "nbconvert_exporter": "python",
   "pygments_lexer": "ipython3",
   "version": "3.6.3"
  }
 },
 "nbformat": 4,
 "nbformat_minor": 2
}
