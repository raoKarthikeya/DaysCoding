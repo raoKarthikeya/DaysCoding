{
 "cells": [
  {
   "cell_type": "code",
   "execution_count": 191,
   "metadata": {},
   "outputs": [],
   "source": [
    "import numpy as np\n",
    "class Solution:\n",
    "    def largestTriangleArea(self, points):\n",
    "        \"\"\"\n",
    "        :type points: List[List[int]]\n",
    "        :rtype: float\n",
    "        \"\"\"     \n",
    "\n",
    "        a=max(points)\n",
    "        print(a)\n",
    "        del points[points.index(a)]\n",
    "        print(points)\n",
    "        b=min(points)\n",
    "        print(b)\n",
    "        del points[points.index(b)]\n",
    "        print(points)\n",
    "        #print(a[0], a[1])\n",
    "        c=max(points,key=lambda item:item[1])\n",
    "        print(c)\n",
    "        d=[b[0]+((a[0]-b[0])/2),b[1]+((a[1]-b[1])/2)]\n",
    "        print(d)\n",
    "        le=((a[0]-b[0])**2 +(a[1]-b[1])**2)**(1/2)\n",
    "        bh=((d[0]-c[0])**2 +(d[1]-c[1])**2)**(1/2)\n",
    "        print(le)\n",
    "        print(bh)\n",
    "        area=0.5*le*bh\n",
    "        print(area)\n",
    "        return area\n"
   ]
  },
  {
   "cell_type": "code",
   "execution_count": 192,
   "metadata": {
    "collapsed": true
   },
   "outputs": [],
   "source": [
    "points = [[4,6],[6,5],[3,1]]#[[0,0],[0,1],[1,0],[0,2],[2,0]]"
   ]
  },
  {
   "cell_type": "code",
   "execution_count": 193,
   "metadata": {},
   "outputs": [
    {
     "name": "stdout",
     "output_type": "stream",
     "text": [
      "[6, 5]\n",
      "[[4, 6], [3, 1]]\n",
      "[3, 1]\n",
      "[[4, 6]]\n",
      "[4, 6]\n",
      "[4.5, 3.0]\n",
      "5.0\n",
      "3.0413812651491097\n",
      "7.603453162872774\n"
     ]
    },
    {
     "data": {
      "text/plain": [
       "7.603453162872774"
      ]
     },
     "execution_count": 193,
     "metadata": {},
     "output_type": "execute_result"
    }
   ],
   "source": [
    "Solution.largestTriangleArea(0,points)"
   ]
  },
  {
   "cell_type": "code",
   "execution_count": null,
   "metadata": {
    "collapsed": true
   },
   "outputs": [],
   "source": []
  },
  {
   "cell_type": "code",
   "execution_count": null,
   "metadata": {
    "collapsed": true
   },
   "outputs": [],
   "source": []
  }
 ],
 "metadata": {
  "kernelspec": {
   "display_name": "Python 3",
   "language": "python",
   "name": "python3"
  },
  "language_info": {
   "codemirror_mode": {
    "name": "ipython",
    "version": 3
   },
   "file_extension": ".py",
   "mimetype": "text/x-python",
   "name": "python",
   "nbconvert_exporter": "python",
   "pygments_lexer": "ipython3",
   "version": "3.6.3"
  }
 },
 "nbformat": 4,
 "nbformat_minor": 2
}
